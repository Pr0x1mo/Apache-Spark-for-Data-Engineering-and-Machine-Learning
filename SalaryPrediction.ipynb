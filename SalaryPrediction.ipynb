{
 "cells": [
  {
   "cell_type": "code",
   "execution_count": 3,
   "id": "c27885a6-d30c-4008-8d5e-98ecc2a5e70b",
   "metadata": {
    "tags": []
   },
   "outputs": [
    {
     "name": "stdout",
     "output_type": "stream",
     "text": [
      "Collecting pandas==1.3.4\n",
      "  Downloading pandas-1.3.4-cp37-cp37m-manylinux_2_17_x86_64.manylinux2014_x86_64.whl (11.3 MB)\n",
      "\u001b[2K     \u001b[90m━━━━━━━━━━━━━━━━━━━━━━━━━━━━━━━━━━━━━━━━\u001b[0m \u001b[32m11.3/11.3 MB\u001b[0m \u001b[31m65.2 MB/s\u001b[0m eta \u001b[36m0:00:00\u001b[0m00:01\u001b[0m0:01\u001b[0m\n",
      "\u001b[?25hRequirement already satisfied: python-dateutil>=2.7.3 in /home/jupyterlab/conda/envs/python/lib/python3.7/site-packages (from pandas==1.3.4) (2.8.2)\n",
      "Requirement already satisfied: pytz>=2017.3 in /home/jupyterlab/conda/envs/python/lib/python3.7/site-packages (from pandas==1.3.4) (2023.3)\n",
      "Requirement already satisfied: numpy>=1.17.3 in /home/jupyterlab/conda/envs/python/lib/python3.7/site-packages (from pandas==1.3.4) (1.21.6)\n",
      "Requirement already satisfied: six>=1.5 in /home/jupyterlab/conda/envs/python/lib/python3.7/site-packages (from python-dateutil>=2.7.3->pandas==1.3.4) (1.16.0)\n",
      "Installing collected packages: pandas\n",
      "  Attempting uninstall: pandas\n",
      "    Found existing installation: pandas 1.3.5\n",
      "    Uninstalling pandas-1.3.5:\n",
      "      Successfully uninstalled pandas-1.3.5\n",
      "Successfully installed pandas-1.3.4\n",
      "Requirement already satisfied: scikit-Learn==0.20.1 in /home/jupyterlab/conda/envs/python/lib/python3.7/site-packages (0.20.1)\n",
      "Requirement already satisfied: numpy>=1.8.2 in /home/jupyterlab/conda/envs/python/lib/python3.7/site-packages (from scikit-Learn==0.20.1) (1.21.6)\n",
      "Requirement already satisfied: scipy>=0.13.3 in /home/jupyterlab/conda/envs/python/lib/python3.7/site-packages (from scikit-Learn==0.20.1) (1.7.3)\n"
     ]
    }
   ],
   "source": [
    "!pip install pandas==1.3.4\n",
    "!pip install scikit-Learn==0.20.1\n",
    "\n",
    "import pandas as pd\n",
    "from sklearn.linear_model import LinearRegression"
   ]
  },
  {
   "cell_type": "code",
   "execution_count": 34,
   "id": "61f9a2c7-6dde-4f54-ba71-5a38d3f2fa82",
   "metadata": {
    "tags": []
   },
   "outputs": [],
   "source": [
    "import numpy as np"
   ]
  },
  {
   "cell_type": "code",
   "execution_count": 35,
   "id": "f387fdf6-75cc-4a0e-8a6f-b5cceb8414de",
   "metadata": {
    "tags": []
   },
   "outputs": [],
   "source": [
    "data = {\n",
    "'year':[2013,2014,2017,2018,2019,2020,2023],\n",
    "    'salary':[25000,50000,60000,75000,81000,85000,125000],\n",
    "  'age':[31, 32, 35, 36, 37, 39, 41]\n",
    "}"
   ]
  },
  {
   "cell_type": "code",
   "execution_count": 36,
   "id": "48c18ec3-edb9-4fb3-90bd-28ce2341a3ec",
   "metadata": {
    "tags": []
   },
   "outputs": [],
   "source": [
    "df = pd.DataFrame(data)\n"
   ]
  },
  {
   "cell_type": "code",
   "execution_count": 37,
   "id": "9f4d9582-e2b1-437e-8c39-0c8e9ce4ee87",
   "metadata": {
    "tags": []
   },
   "outputs": [
    {
     "name": "stdout",
     "output_type": "stream",
     "text": [
      "   year  salary  age\n",
      "0  2013   25000   31\n",
      "1  2014   50000   32\n",
      "2  2017   60000   35\n",
      "3  2018   75000   36\n",
      "4  2019   81000   37\n",
      "5  2020   85000   39\n",
      "6  2023  125000   41\n"
     ]
    }
   ],
   "source": [
    "print(df)"
   ]
  },
  {
   "cell_type": "code",
   "execution_count": 38,
   "id": "6cdd01ee-8963-4ab0-9b19-ca9f0193bda0",
   "metadata": {
    "tags": []
   },
   "outputs": [
    {
     "data": {
      "text/plain": [
       "<AxesSubplot:xlabel='year', ylabel='salary'>"
      ]
     },
     "execution_count": 38,
     "metadata": {},
     "output_type": "execute_result"
    },
    {
     "data": {
      "image/png": "[encoded data removed]",
      "text/plain": [
       "<Figure size 640x480 with 1 Axes>"
      ]
     },
     "metadata": {},
     "output_type": "display_data"
    }
   ],
   "source": [
    "df.plot.scatter(x = 'year', y = 'salary')"
   ]
  },
  {
   "cell_type": "code",
   "execution_count": 39,
   "id": "4ef85d36-7f84-4a8b-91c3-6cd24686ce82",
   "metadata": {
    "tags": []
   },
   "outputs": [],
   "source": [
    "target = df['salary']"
   ]
  },
  {
   "cell_type": "code",
   "execution_count": 40,
   "id": "e4c0fa8c-eb7e-404d-8892-3e3e0116d7d2",
   "metadata": {
    "tags": []
   },
   "outputs": [],
   "source": [
    "features = df[['year','age']]"
   ]
  },
  {
   "cell_type": "code",
   "execution_count": 41,
   "id": "6b79d740-b105-40af-8dc6-40294526e270",
   "metadata": {
    "tags": []
   },
   "outputs": [],
   "source": [
    "lr = LinearRegression()"
   ]
  },
  {
   "cell_type": "raw",
   "id": "4f416d87-10f6-4870-91e3-bdd8be74bc6c",
   "metadata": {},
   "source": [
    "lr.fit(features,target)"
   ]
  },
  {
   "cell_type": "code",
   "execution_count": 42,
   "id": "7e4979be-a9b8-4a3c-b049-5ca3ccd2ebcd",
   "metadata": {
    "tags": []
   },
   "outputs": [
    {
     "name": "stdout",
     "output_type": "stream",
     "text": [
      "LinearRegression(copy_X=True, fit_intercept=True, n_jobs=None,\n",
      "         normalize=False)\n"
     ]
    }
   ],
   "source": [
    "print(lr.fit(features,target))"
   ]
  },
  {
   "cell_type": "code",
   "execution_count": 43,
   "id": "5ad55dd7-d8b5-493f-8ea5-615a22cccfe2",
   "metadata": {
    "tags": []
   },
   "outputs": [
    {
     "name": "stdout",
     "output_type": "stream",
     "text": [
      "0.9638026216632924\n"
     ]
    }
   ],
   "source": [
    "print(lr.score(features,target))"
   ]
  },
  {
   "cell_type": "code",
   "execution_count": 44,
   "id": "be76d73e-f70f-4b7d-a2bf-ed7c299b91b6",
   "metadata": {
    "tags": []
   },
   "outputs": [],
   "source": [
    "newSalary = lr.predict([[2030,48]])"
   ]
  },
  {
   "cell_type": "code",
   "execution_count": 45,
   "id": "0f06a1a9-1402-4ccd-8c0a-5b7db7f23401",
   "metadata": {
    "tags": []
   },
   "outputs": [
    {
     "name": "stdout",
     "output_type": "stream",
     "text": [
      "[185336.73469388]\n"
     ]
    }
   ],
   "source": [
    "print(newSalary)"
   ]
  },
  {
   "cell_type": "code",
   "execution_count": 48,
   "id": "af5cfb4a-3c2c-475e-8398-e5017f81a613",
   "metadata": {
    "tags": []
   },
   "outputs": [
    {
     "name": "stdout",
     "output_type": "stream",
     "text": [
      "Equation of the line: y = 8878.00x + -17841696.00\n"
     ]
    }
   ],
   "source": [
    "slope, intercept = np.polyfit(df['year'], df['salary'], 1)\n",
    "\n",
    "# Equation of the line: y = mx + b\n",
    "equation = f\"y = {slope:.2f}x + {intercept:.2f}\"\n",
    "\n",
    "print(\"Equation of the line:\", equation)"
   ]
  },
  {
   "cell_type": "code",
   "execution_count": null,
   "id": "5147ebfd-6964-48dd-bc9e-60b0551fc3ea",
   "metadata": {},
   "outputs": [],
   "source": []
  },
  {
   "cell_type": "code",
   "execution_count": null,
   "id": "c7aca195-9e3d-48a8-a525-90e3d94a84a2",
   "metadata": {},
   "outputs": [],
   "source": []
  },
  {
   "cell_type": "code",
   "execution_count": null,
   "id": "6e152f81-5cbe-4987-b82e-6d17316273b4",
   "metadata": {},
   "outputs": [],
   "source": []
  }
 ],
 "metadata": {
  "kernelspec": {
   "display_name": "Python",
   "language": "python",
   "name": "conda-env-python-py"
  },
  "language_info": {
   "codemirror_mode": {
    "name": "ipython",
    "version": 3
   },
   "file_extension": ".py",
   "mimetype": "text/x-python",
   "name": "python",
   "nbconvert_exporter": "python",
   "pygments_lexer": "ipython3",
   "version": "3.7.12"
  }
 },
 "nbformat": 4,
 "nbformat_minor": 5
}
